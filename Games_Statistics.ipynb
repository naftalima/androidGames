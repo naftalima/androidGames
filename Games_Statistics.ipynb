{
 "cells": [
  {
   "cell_type": "code",
   "execution_count": 2,
   "metadata": {},
   "outputs": [
    {
     "name": "stdout",
     "output_type": "stream",
     "text": [
      "Cloning into 'androidGames'...\n",
      "remote: Enumerating objects: 247, done.\u001b[K\n",
      "remote: Counting objects: 100% (247/247), done.\u001b[K\n",
      "remote: Compressing objects: 100% (176/176), done.\u001b[K\n",
      "remote: Total 247 (delta 109), reused 201 (delta 67), pack-reused 0\u001b[K\n",
      "Receiving objects: 100% (247/247), 1.59 MiB | 13.00 MiB/s, done.\n",
      "Resolving deltas: 100% (109/109), done.\n"
     ]
    }
   ],
   "source": [
    "! git clone https://github.com/naftalima/androidGames.git"
   ]
  },
  {
   "cell_type": "code",
   "execution_count": 3,
   "metadata": {},
   "outputs": [
    {
     "name": "stdout",
     "output_type": "stream",
     "text": [
      "\u001b[0m\u001b[01;34mandroidGames\u001b[0m/  apt.txt  environment.yml  Index.ipynb  Untitled.ipynb\r\n"
     ]
    }
   ],
   "source": [
    "ls"
   ]
  },
  {
   "cell_type": "code",
   "execution_count": 4,
   "metadata": {},
   "outputs": [
    {
     "name": "stdout",
     "output_type": "stream",
     "text": [
      "/home/jovyan/binder/androidGames\n"
     ]
    }
   ],
   "source": [
    "cd androidGames/"
   ]
  },
  {
   "cell_type": "code",
   "execution_count": 15,
   "metadata": {},
   "outputs": [],
   "source": [
    "import pandas as pd\n",
    "import numpy as np\n",
    "import math\n",
    "import matplotlib.pyplot as plt\n",
    "\n",
    "games = ['com.dts.freefireth',\n",
    "         'com.supercell.clashroyale',\n",
    "         'com.nianticlabs.pokemongo',\n",
    "         'com.supercell.clashofclans',\n",
    "         'com.king.candycrushsaga',\n",
    "         'com.mobile.legends',\n",
    "         'com.tencent.ig',\n",
    "         'com.miniclip.eightballpool',\n",
    "         'com.playrix.township',\n",
    "         'com.king.candycrushsodasaga',\n",
    "         'com.kiloo.subwaysurf',\n",
    "         'com.imangi.templerun2']\n",
    "\n",
    "gamesLegend = ['Garena Free Fire',\n",
    "               'Clash Royale',\n",
    "               'Pokémon GO',\n",
    "               'Clash of Clans',\n",
    "               'Candy Crush Saga',\n",
    "               'Mobile Legends- Bang Bang',\n",
    "               'PUG MOBILE',\n",
    "               '8 Ball Pool',\n",
    "               'Township',\n",
    "               'Candy Crush Soda Saga',\n",
    "               'Subway Surfers',\n",
    "               'Temple Run 2']\n",
    "\n",
    "\n",
    "def por_minuto():\n",
    "    dado={'nome':[]}\n",
    "    for i in range(len(games)):\n",
    "        csv = 'data/' + games[i] + '.csv'\n",
    "        df = pd.read_csv(csv)\n",
    "        batteryPerMinute = []\n",
    "        for index, row in df.iterrows():\n",
    "            minuto = np.divide(row['ElapsedTimestamp'] , 60 )\n",
    "            batmin =  np.divide(row['Battery_Used'], minuto)\n",
    "            if batmin < 0.05:# isn't outlier\n",
    "                batteryPerMinute.append(batmin)\n",
    "        dado[gamesLegend[i]] = batteryPerMinute\n",
    "    del dado['nome']\n",
    "    return(dado)\n",
    "\n",
    "def Medicoes(dado):\n",
    "    metricas = {} #{'nome_jogo': media, mediana, desvio_padrao}\n",
    "    for i in gamesLegend:\n",
    "        metricas[i] = [np.mean(dado[i]),np.median(dado[i]),np.std(dado[i])]\n",
    "    return(metricas)\n",
    "\n",
    "def Maior_Menor(dfMedias):\n",
    "    print('jogos com maiores:')\n",
    "    print(dfMedias.idxmax())  \n",
    "    print(dfMedias.max())\n",
    "    print('jogos com menores:')  \n",
    "    print(dfMedias.idxmin())  \n",
    "    print(dfMedias.min())\n",
    "    return()\n",
    "\n",
    "data = por_minuto()"
   ]
  },
  {
   "cell_type": "code",
   "execution_count": 17,
   "metadata": {},
   "outputs": [
    {
     "data": {
      "text/html": [
       "<div>\n",
       "<style scoped>\n",
       "    .dataframe tbody tr th:only-of-type {\n",
       "        vertical-align: middle;\n",
       "    }\n",
       "\n",
       "    .dataframe tbody tr th {\n",
       "        vertical-align: top;\n",
       "    }\n",
       "\n",
       "    .dataframe thead th {\n",
       "        text-align: right;\n",
       "    }\n",
       "</style>\n",
       "<table border=\"1\" class=\"dataframe\">\n",
       "  <thead>\n",
       "    <tr style=\"text-align: right;\">\n",
       "      <th></th>\n",
       "      <th>media</th>\n",
       "      <th>mediana</th>\n",
       "      <th>std</th>\n",
       "    </tr>\n",
       "  </thead>\n",
       "  <tbody>\n",
       "    <tr>\n",
       "      <th>Garena Free Fire</th>\n",
       "      <td>0.009903</td>\n",
       "      <td>0.007429</td>\n",
       "      <td>0.008592</td>\n",
       "    </tr>\n",
       "    <tr>\n",
       "      <th>Clash Royale</th>\n",
       "      <td>0.006154</td>\n",
       "      <td>0.004800</td>\n",
       "      <td>0.005569</td>\n",
       "    </tr>\n",
       "    <tr>\n",
       "      <th>Pokémon GO</th>\n",
       "      <td>0.006743</td>\n",
       "      <td>0.006507</td>\n",
       "      <td>0.004452</td>\n",
       "    </tr>\n",
       "    <tr>\n",
       "      <th>Clash of Clans</th>\n",
       "      <td>0.007801</td>\n",
       "      <td>0.006667</td>\n",
       "      <td>0.006269</td>\n",
       "    </tr>\n",
       "    <tr>\n",
       "      <th>Candy Crush Saga</th>\n",
       "      <td>0.008836</td>\n",
       "      <td>0.005125</td>\n",
       "      <td>0.009271</td>\n",
       "    </tr>\n",
       "    <tr>\n",
       "      <th>Mobile Legends- Bang Bang</th>\n",
       "      <td>0.009397</td>\n",
       "      <td>0.007485</td>\n",
       "      <td>0.007145</td>\n",
       "    </tr>\n",
       "    <tr>\n",
       "      <th>PUG MOBILE</th>\n",
       "      <td>0.013221</td>\n",
       "      <td>0.011502</td>\n",
       "      <td>0.010479</td>\n",
       "    </tr>\n",
       "    <tr>\n",
       "      <th>8 Ball Pool</th>\n",
       "      <td>0.008768</td>\n",
       "      <td>0.007500</td>\n",
       "      <td>0.006156</td>\n",
       "    </tr>\n",
       "    <tr>\n",
       "      <th>Township</th>\n",
       "      <td>0.009720</td>\n",
       "      <td>0.007101</td>\n",
       "      <td>0.008049</td>\n",
       "    </tr>\n",
       "    <tr>\n",
       "      <th>Candy Crush Soda Saga</th>\n",
       "      <td>0.017145</td>\n",
       "      <td>0.015409</td>\n",
       "      <td>0.013084</td>\n",
       "    </tr>\n",
       "    <tr>\n",
       "      <th>Subway Surfers</th>\n",
       "      <td>0.007806</td>\n",
       "      <td>0.006667</td>\n",
       "      <td>0.006344</td>\n",
       "    </tr>\n",
       "    <tr>\n",
       "      <th>Temple Run 2</th>\n",
       "      <td>0.012701</td>\n",
       "      <td>0.008571</td>\n",
       "      <td>0.009605</td>\n",
       "    </tr>\n",
       "  </tbody>\n",
       "</table>\n",
       "</div>"
      ],
      "text/plain": [
       "                              media   mediana       std\n",
       "Garena Free Fire           0.009903  0.007429  0.008592\n",
       "Clash Royale               0.006154  0.004800  0.005569\n",
       "Pokémon GO                 0.006743  0.006507  0.004452\n",
       "Clash of Clans             0.007801  0.006667  0.006269\n",
       "Candy Crush Saga           0.008836  0.005125  0.009271\n",
       "Mobile Legends- Bang Bang  0.009397  0.007485  0.007145\n",
       "PUG MOBILE                 0.013221  0.011502  0.010479\n",
       "8 Ball Pool                0.008768  0.007500  0.006156\n",
       "Township                   0.009720  0.007101  0.008049\n",
       "Candy Crush Soda Saga      0.017145  0.015409  0.013084\n",
       "Subway Surfers             0.007806  0.006667  0.006344\n",
       "Temple Run 2               0.012701  0.008571  0.009605"
      ]
     },
     "execution_count": 17,
     "metadata": {},
     "output_type": "execute_result"
    }
   ],
   "source": [
    "medidas = Medicoes(data)\n",
    "dfm = pd.DataFrame.from_dict(medidas,orient='index')\n",
    "dfm.columns = ['media','mediana','std']\n",
    "dfm"
   ]
  },
  {
   "cell_type": "code",
   "execution_count": 18,
   "metadata": {},
   "outputs": [
    {
     "name": "stdout",
     "output_type": "stream",
     "text": [
      "jogos com maiores:\n",
      "media      Candy Crush Soda Saga\n",
      "mediana    Candy Crush Soda Saga\n",
      "std        Candy Crush Soda Saga\n",
      "dtype: object\n",
      "media      0.017145\n",
      "mediana    0.015409\n",
      "std        0.013084\n",
      "dtype: float64\n",
      "jogos com menores:\n",
      "media      Clash Royale\n",
      "mediana    Clash Royale\n",
      "std          Pokémon GO\n",
      "dtype: object\n",
      "media      0.006154\n",
      "mediana    0.004800\n",
      "std        0.004452\n",
      "dtype: float64\n"
     ]
    },
    {
     "data": {
      "text/plain": [
       "()"
      ]
     },
     "execution_count": 18,
     "metadata": {},
     "output_type": "execute_result"
    }
   ],
   "source": [
    "Maior_Menor(dfm)"
   ]
  },
  {
   "cell_type": "code",
   "execution_count": null,
   "metadata": {},
   "outputs": [],
   "source": []
  }
 ],
 "metadata": {
  "kernelspec": {
   "display_name": "Python 3",
   "language": "python",
   "name": "python3"
  },
  "language_info": {
   "codemirror_mode": {
    "name": "ipython",
    "version": 3
   },
   "file_extension": ".py",
   "mimetype": "text/x-python",
   "name": "python",
   "nbconvert_exporter": "python",
   "pygments_lexer": "ipython3",
   "version": "3.6.7"
  }
 },
 "nbformat": 4,
 "nbformat_minor": 2
}
