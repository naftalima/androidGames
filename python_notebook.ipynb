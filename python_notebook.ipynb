{
 "cells": [
  {
   "cell_type": "code",
   "execution_count": 1,
   "metadata": {},
   "outputs": [],
   "source": [
    "# ! git clone https://github.com/naftalima/androidGames.git"
   ]
  },
  {
   "cell_type": "code",
   "execution_count": 2,
   "metadata": {},
   "outputs": [],
   "source": [
    "# cd androidGames/"
   ]
  },
  {
   "cell_type": "markdown",
   "metadata": {},
   "source": [
    "## O .csv da Query\n",
    "* está em ./data/\n",
    "    >_SELECT_name_battery_level_version_name_device_id_timestamp_FROM_201909111900.csv"
   ]
  },
  {
   "cell_type": "code",
   "execution_count": 3,
   "metadata": {
    "scrolled": false
   },
   "outputs": [
    {
     "data": {
      "text/html": [
       "<div>\n",
       "<style scoped>\n",
       "    .dataframe tbody tr th:only-of-type {\n",
       "        vertical-align: middle;\n",
       "    }\n",
       "\n",
       "    .dataframe tbody tr th {\n",
       "        vertical-align: top;\n",
       "    }\n",
       "\n",
       "    .dataframe thead th {\n",
       "        text-align: right;\n",
       "    }\n",
       "</style>\n",
       "<table border=\"1\" class=\"dataframe\">\n",
       "  <thead>\n",
       "    <tr style=\"text-align: right;\">\n",
       "      <th></th>\n",
       "      <th>name</th>\n",
       "      <th>battery_level</th>\n",
       "      <th>version_name</th>\n",
       "      <th>device_id</th>\n",
       "      <th>timestamp</th>\n",
       "    </tr>\n",
       "  </thead>\n",
       "  <tbody>\n",
       "    <tr>\n",
       "      <th>0</th>\n",
       "      <td>com.dts.freefireth</td>\n",
       "      <td>0.89</td>\n",
       "      <td>1.17.1</td>\n",
       "      <td>3383</td>\n",
       "      <td>2018-06-17 03:55:49</td>\n",
       "    </tr>\n",
       "    <tr>\n",
       "      <th>1</th>\n",
       "      <td>com.dts.freefireth</td>\n",
       "      <td>0.80</td>\n",
       "      <td>1.17.1</td>\n",
       "      <td>3383</td>\n",
       "      <td>2018-06-17 04:13:19</td>\n",
       "    </tr>\n",
       "    <tr>\n",
       "      <th>2</th>\n",
       "      <td>com.dts.freefireth</td>\n",
       "      <td>0.80</td>\n",
       "      <td>1.17.1</td>\n",
       "      <td>3383</td>\n",
       "      <td>2018-06-17 04:13:49</td>\n",
       "    </tr>\n",
       "    <tr>\n",
       "      <th>3</th>\n",
       "      <td>com.dts.freefireth</td>\n",
       "      <td>0.79</td>\n",
       "      <td>1.17.1</td>\n",
       "      <td>3383</td>\n",
       "      <td>2018-06-17 04:14:19</td>\n",
       "    </tr>\n",
       "    <tr>\n",
       "      <th>4</th>\n",
       "      <td>com.dts.freefireth</td>\n",
       "      <td>0.79</td>\n",
       "      <td>1.17.1</td>\n",
       "      <td>3383</td>\n",
       "      <td>2018-06-17 04:14:49</td>\n",
       "    </tr>\n",
       "    <tr>\n",
       "      <th>5</th>\n",
       "      <td>com.dts.freefireth</td>\n",
       "      <td>0.79</td>\n",
       "      <td>1.17.1</td>\n",
       "      <td>3383</td>\n",
       "      <td>2018-06-17 04:15:19</td>\n",
       "    </tr>\n",
       "    <tr>\n",
       "      <th>6</th>\n",
       "      <td>com.dts.freefireth</td>\n",
       "      <td>0.78</td>\n",
       "      <td>1.17.1</td>\n",
       "      <td>3383</td>\n",
       "      <td>2018-06-17 04:15:49</td>\n",
       "    </tr>\n",
       "    <tr>\n",
       "      <th>7</th>\n",
       "      <td>com.dts.freefireth</td>\n",
       "      <td>0.78</td>\n",
       "      <td>1.17.1</td>\n",
       "      <td>3383</td>\n",
       "      <td>2018-06-17 04:16:19</td>\n",
       "    </tr>\n",
       "    <tr>\n",
       "      <th>8</th>\n",
       "      <td>com.dts.freefireth</td>\n",
       "      <td>0.44</td>\n",
       "      <td>1.17.1</td>\n",
       "      <td>3383</td>\n",
       "      <td>2018-06-17 05:17:47</td>\n",
       "    </tr>\n",
       "    <tr>\n",
       "      <th>9</th>\n",
       "      <td>com.dts.freefireth</td>\n",
       "      <td>0.44</td>\n",
       "      <td>1.17.1</td>\n",
       "      <td>3383</td>\n",
       "      <td>2018-06-17 05:18:17</td>\n",
       "    </tr>\n",
       "  </tbody>\n",
       "</table>\n",
       "</div>"
      ],
      "text/plain": [
       "                 name  battery_level version_name  device_id  \\\n",
       "0  com.dts.freefireth           0.89       1.17.1       3383   \n",
       "1  com.dts.freefireth           0.80       1.17.1       3383   \n",
       "2  com.dts.freefireth           0.80       1.17.1       3383   \n",
       "3  com.dts.freefireth           0.79       1.17.1       3383   \n",
       "4  com.dts.freefireth           0.79       1.17.1       3383   \n",
       "5  com.dts.freefireth           0.79       1.17.1       3383   \n",
       "6  com.dts.freefireth           0.78       1.17.1       3383   \n",
       "7  com.dts.freefireth           0.78       1.17.1       3383   \n",
       "8  com.dts.freefireth           0.44       1.17.1       3383   \n",
       "9  com.dts.freefireth           0.44       1.17.1       3383   \n",
       "\n",
       "            timestamp  \n",
       "0 2018-06-17 03:55:49  \n",
       "1 2018-06-17 04:13:19  \n",
       "2 2018-06-17 04:13:49  \n",
       "3 2018-06-17 04:14:19  \n",
       "4 2018-06-17 04:14:49  \n",
       "5 2018-06-17 04:15:19  \n",
       "6 2018-06-17 04:15:49  \n",
       "7 2018-06-17 04:16:19  \n",
       "8 2018-06-17 05:17:47  \n",
       "9 2018-06-17 05:18:17  "
      ]
     },
     "execution_count": 3,
     "metadata": {},
     "output_type": "execute_result"
    }
   ],
   "source": [
    "import pandas as pd\n",
    "import numpy as np\n",
    "import math\n",
    "\n",
    "#df: data frame\n",
    "df = pd.read_csv('data/_SELECT_name_battery_level_version_name_device_id_timestamp_FROM_201909111900.csv')\n",
    "# name, battery_level, version_name, device_id, timestamp\n",
    "\n",
    "# str into  <class 'pandas._libs.tslib.Timestamp>\n",
    "df['timestamp'] = pd.to_datetime(df['timestamp'])\n",
    "\n",
    "df.head(10)"
   ]
  },
  {
   "cell_type": "code",
   "execution_count": 4,
   "metadata": {},
   "outputs": [],
   "source": [
    "def games_names():\n",
    "    f = open(\"data/jogos.txt\", \"r\")\n",
    "    jogos=[]\n",
    "    for line in f:\n",
    "        linha = line.split(\": \")\n",
    "        jogos.append([linha[0],linha[1]])\n",
    "    f.close()\n",
    "    for  i in range(len(jogos)):\n",
    "        jogos[i][1] = jogos[i][1].replace('\\n','')\n",
    "    return(jogos)\n",
    "\n",
    "def url(jogosnomes):\n",
    "    urls= []\n",
    "    for i in jogosnomes:\n",
    "        urls.append(i[1])\n",
    "    return(urls)\n",
    "\n",
    "def GamesMostUsed(listOfGames):\n",
    "    \"\"\"Os com mais dados do top 20 da playstore\"\"\"\n",
    "    amount = []\n",
    "    for i in listOfGames:\n",
    "        qtd=0\n",
    "        for index, row in df.iterrows():\n",
    "            if row[\"name\"] == i:\n",
    "                qtd+=1\n",
    "        amount.append(qtd)\n",
    "        # print(i,\"qtd: \",qtd)\n",
    "    gamesGood = []\n",
    "    for i in range(len(amount)):\n",
    "        if amount[i] > 1000:\n",
    "            gamesGood.append(listOfGames[i])\n",
    "    return(gamesGood)\n"
   ]
  },
  {
   "cell_type": "markdown",
   "metadata": {},
   "source": [
    "## Os jogos com maior quantidade de dados:"
   ]
  },
  {
   "cell_type": "code",
   "execution_count": null,
   "metadata": {},
   "outputs": [],
   "source": [
    "games = GamesMostUsed(url(games_names()))\n",
    "print(games)"
   ]
  },
  {
   "cell_type": "markdown",
   "metadata": {},
   "source": [
    "## Agrupando os dados de cada jogo:\n",
    "* Cada jogo terá um dicionario, onde a chave é a versão do jogo. Cada item é outro dicionario, em que a chave é o device_id, i.e. um dispositivo diferente.\n",
    "* O item de destes dicionarios é uma lista com dados:\n",
    "    > [ timestamp , battery_level   ]\n",
    "## Por uso:\n",
    "* o dado é adicionada a cada decaimento de 1% na bateria, então uma margem de 3% de decaimento.\n",
    "<p> salvando em duas listas, battery level e timestamp inicial e final respectivamente, para cada uso.\n",
    "    salvando no dataframe o qnto foi utilizado, diferença, em cada uso.\n",
    "</p>"
   ]
  },
  {
   "cell_type": "code",
   "execution_count": null,
   "metadata": {},
   "outputs": [],
   "source": [
    "def agrupando(nome):\n",
    "    # version_name={ #NESTED DICT\n",
    "    #     'Version_Name': {'Device_Id': [ [timestamp, battery level] ] }\n",
    "    #                                        #NESTED LIST\n",
    "    version_name={0.0: {0: []}}\n",
    "    for index, row in df.iterrows():\n",
    "        if row[\"name\"] == nome:  #para todos os dados do jogo selecionado\n",
    "            #agrupando pela versão\n",
    "            if not row[\"version_name\"] in version_name:\n",
    "                version_name[row[\"version_name\"]] = {} # cria\n",
    "            #agrupando pelo dispositivo\n",
    "            if not row['device_id'] in version_name[row[\"version_name\"]]:\n",
    "                version_name[row[\"version_name\"]][row['device_id']] = [] #cria\n",
    "            version_name[row[\"version_name\"]][row['device_id']].append([row['timestamp'],row['battery_level']]) #insere\n",
    "    del version_name[0.0]\n",
    "    return(version_name)\n",
    "\n",
    "def porUso(jogoAgrupado):\n",
    "    \"\"\"Separando por uso e deletando os repetidos\"\"\"\n",
    "    dfJogo = pd.DataFrame()\n",
    "    dateInit = []\n",
    "    batteryInit =[]\n",
    "    dateFinal = []\n",
    "    batteryFinal =[]\n",
    "    for key, val in jogoAgrupado.items():\n",
    "        # print(\"version_name\",key)\n",
    "        for key0, val0 in val.items():\n",
    "            # print(\"device_id\", key0)\n",
    "            n = len(val0)\n",
    "            for i in range(n-1):\n",
    "                if  i == 0: #inicio da lista\n",
    "                    dateInit.append(val0[i][0])\n",
    "                    batteryInit.append(val0[i][1])\n",
    "                    # print(\"START\",\"inicio: \", val0[i][1])\n",
    "                diff =  val0[i+1][1] - val0[i][1]\n",
    "                if ( diff < -0.03 ) or ( diff > 0.0): #parou\n",
    "                    dateFinal.append(val0[i][0])\n",
    "                    batteryFinal.append(val0[i][1])\n",
    "                    dateInit.append(val0[i+1][0])\n",
    "                    batteryInit.append(val0[i+1][1])\n",
    "                    # print(\"STOP\",\"fim: \", val0[i][0], \"inicio do prox:\", val0[i+1][0])\n",
    "                if i == n-2: ##fim da lista\n",
    "                    dateFinal.append(val0[i+1][0])\n",
    "                    batteryFinal.append(val0[i+1][1])\n",
    "                    # print(\"END\", \"final:\", val0[i+1][1])\n",
    "    # print(\"inicio: \", batteryInit, dateInit)\n",
    "    # print(\"fim: \",batteryFinal,dateFinal)\n",
    "    dfJogo['BatteryLevelFinal'] = batteryFinal\n",
    "    dfJogo['BatteryLevelInitial'] = batteryInit\n",
    "    dfJogo['TimestampFinal'] = dateFinal\n",
    "    dfJogo['TimestampInitial'] = dateInit\n",
    "    # print(dfJogo.head(10))\n",
    "    batteryused = []\n",
    "    elapsedtime = []\n",
    "    for index, row in dfJogo.iterrows():\n",
    "        battery = np.subtract(row['BatteryLevelInitial'], row['BatteryLevelFinal'] )\n",
    "        time = np.subtract( row['TimestampFinal'] , row['TimestampInitial'] )\n",
    "        # # <class 'pandas._libs.tslib.Timedelta'>\n",
    "        # # diff.seconds <class 'int'>\n",
    "        batteryused.append(battery)\n",
    "        elapsedtime.append(time.seconds)\n",
    "    dfJogo = dfJogo.drop(columns=\"BatteryLevelFinal\")\n",
    "    dfJogo = dfJogo.drop(columns=\"BatteryLevelInitial\")\n",
    "    dfJogo = dfJogo.drop(columns=\"TimestampInitial\")\n",
    "    dfJogo = dfJogo.drop(columns=\"TimestampFinal\")\n",
    "\n",
    "    dfJogo['Battery_Used'] = batteryused\n",
    "    dfJogo['ElapsedTimestamp'] = elapsedtime\n",
    "    dfJogo = dfJogo.set_index(\"Battery_Used\")\n",
    "    dfJogo = dfJogo.drop(0, axis=0)\n",
    "\n",
    "    return(dfJogo)"
   ]
  },
  {
   "cell_type": "markdown",
   "metadata": {},
   "source": [
    "### Neste formato:\n",
    "* ElapsedTimestamp: segundos\n",
    "* Battery_Ussed:\n",
    "    100% -> 1.00\n",
    "    \n",
    "### Arquivo:\n",
    "* local:\n",
    "    > ./data/\n"
   ]
  },
  {
   "cell_type": "code",
   "execution_count": null,
   "metadata": {},
   "outputs": [],
   "source": [
    "for i in games:\n",
    "    dfG = porUso(agrupando(i))\n",
    "    print(i)\n",
    "    print( dfG.head(5))"
   ]
  },
  {
   "cell_type": "code",
   "execution_count": null,
   "metadata": {},
   "outputs": [],
   "source": [
    "def Count_Users_Versions():\n",
    "    users_versions = {}\n",
    "    for i in games:\n",
    "        nameG = i\n",
    "        dictG = agrupando(nameG)\n",
    "        versoes = len(dictG)\n",
    "        users = 0\n",
    "        for key in dictG: #key == versionname\n",
    "            users += len(dictG[key])\n",
    "        users_versions[nameG] = [versoes,users]\n",
    "    df_uv = pd.DataFrame.from_dict(users_versions,orient='index')\n",
    "    df_uv.columns = ['versoes','users']\n",
    "    return(df_uv)"
   ]
  },
  {
   "cell_type": "markdown",
   "metadata": {},
   "source": [
    "### Quantidade de Usuarios e Versões para cada jogo analisado:"
   ]
  },
  {
   "cell_type": "code",
   "execution_count": null,
   "metadata": {},
   "outputs": [],
   "source": [
    "dfCounter =  Count_Users_Versions()\n",
    "dfCounter.head(12)"
   ]
  },
  {
   "cell_type": "markdown",
   "metadata": {},
   "source": [
    "#### Com mais:"
   ]
  },
  {
   "cell_type": "code",
   "execution_count": null,
   "metadata": {},
   "outputs": [],
   "source": [
    "dfCounter.idxmax()"
   ]
  },
  {
   "cell_type": "markdown",
   "metadata": {},
   "source": [
    "#### Com menos:"
   ]
  },
  {
   "cell_type": "code",
   "execution_count": null,
   "metadata": {},
   "outputs": [],
   "source": [
    "dfCounter.idxmin()"
   ]
  },
  {
   "cell_type": "markdown",
   "metadata": {},
   "source": [
    "# Normalizando"
   ]
  },
  {
   "cell_type": "code",
   "execution_count": null,
   "metadata": {},
   "outputs": [],
   "source": [
    "def por_minuto():\n",
    "    \"\"\"Normalizando os dados por uso em qnto % de bateria é utilizado por minuto\"\"\"\n",
    "    dado={'nome':[]}\n",
    "    for i in range(len(games)):\n",
    "        csv = 'data/' + games[i] + '.csv'\n",
    "        df = pd.read_csv(csv)\n",
    "        batteryPerMinute = []\n",
    "        for index, row in df.iterrows():\n",
    "            minuto = np.divide(row['ElapsedTimestamp'] , 60 )\n",
    "            batmin =  np.divide(row['Battery_Used'], minuto)\n",
    "            if batmin < 0.05:# isn't outlier\n",
    "                batteryPerMinute.append(batmin)\n",
    "        dado[games[i]] = batteryPerMinute\n",
    "    del dado['nome']\n",
    "    return(dado)\n",
    "\n",
    "def Medicoes(dado):\n",
    "    metricas = {} #{'nome_jogo': media, mediana, desvio_padrao}\n",
    "    for i in games:\n",
    "        metricas[i] = [np.mean(dado[i]),np.median(dado[i]),np.std(dado[i])]\n",
    "    metricas = pd.DataFrame.from_dict(metricas,orient='index')\n",
    "    metricas.columns = ['media','mediana','std']\n",
    "    return(metricas)"
   ]
  },
  {
   "cell_type": "code",
   "execution_count": null,
   "metadata": {},
   "outputs": [],
   "source": [
    "data = por_minuto()\n",
    "medidas = Medicoes(data)\n",
    "medidas.head(12)"
   ]
  },
  {
   "cell_type": "code",
   "execution_count": null,
   "metadata": {},
   "outputs": [],
   "source": [
    "medidas.idxmax()"
   ]
  },
  {
   "cell_type": "code",
   "execution_count": null,
   "metadata": {},
   "outputs": [],
   "source": [
    "medidas.idxmin()"
   ]
  },
  {
   "cell_type": "markdown",
   "metadata": {},
   "source": [
    "# Por versão"
   ]
  },
  {
   "cell_type": "code",
   "execution_count": null,
   "metadata": {},
   "outputs": [],
   "source": [
    "def porUso_Versao(jogoAgrupado):\n",
    "    \"\"\"Separando por uso e deletando os repetidos\"\"\"\n",
    "    dfJogo = pd.DataFrame()\n",
    "    dateInit = []\n",
    "    batteryInit =[]\n",
    "    dateFinal = []\n",
    "    batteryFinal =[]\n",
    "    versao = []\n",
    "    for key, val in jogoAgrupado.items():\n",
    "        # print(\"version_name\",key)\n",
    "        for key0, val0 in val.items():\n",
    "            # print(\"device_id\", key0)\n",
    "            n = len(val0)\n",
    "            for i in range(n-1):\n",
    "                if  i == 0: #inicio da lista\n",
    "                    dateInit.append(val0[i][0])\n",
    "                    batteryInit.append(val0[i][1])\n",
    "                    # print(\"START\",\"inicio: \", val0[i][1])\n",
    "                diff =  val0[i+1][1] - val0[i][1]\n",
    "                if ( diff < -0.03 ) or ( diff > 0.0): #parou\n",
    "                    dateFinal.append(val0[i][0])\n",
    "                    batteryFinal.append(val0[i][1])\n",
    "                    versao.append(key)\n",
    "                    dateInit.append(val0[i+1][0])\n",
    "                    batteryInit.append(val0[i+1][1])\n",
    "                    # print(\"STOP\",\"fim: \", val0[i][0], \"inicio do prox:\", val0[i+1][0])\n",
    "                if i == n-2: ##fim da lista\n",
    "                    dateFinal.append(val0[i+1][0])\n",
    "                    batteryFinal.append(val0[i+1][1])\n",
    "                    versao.append(key)\n",
    "                    # print(\"END\", \"final:\", val0[i+1][1])\n",
    "    # print(\"inicio: \", batteryInit, dateInit)\n",
    "    # print(\"fim: \",batteryFinal,dateFinal)\n",
    "    dfJogo['BatteryLevelFinal'] = batteryFinal\n",
    "    dfJogo['BatteryLevelInitial'] = batteryInit\n",
    "    dfJogo['TimestampFinal'] = dateFinal\n",
    "    dfJogo['TimestampInitial'] = dateInit\n",
    "    dfJogo['Version'] = versao\n",
    "    # print(dfJogo.head(10))\n",
    "    batteryused = []\n",
    "    elapsedtime = []\n",
    "    for index, row in dfJogo.iterrows():\n",
    "        battery = np.subtract(row['BatteryLevelInitial'], row['BatteryLevelFinal'] )\n",
    "        time = np.subtract( row['TimestampFinal'] , row['TimestampInitial'] )\n",
    "        # # <class 'pandas._libs.tslib.Timedelta'>\n",
    "        # # diff.seconds <class 'int'>\n",
    "        batteryused.append(battery)\n",
    "        elapsedtime.append(time.seconds)\n",
    "    dfJogo = dfJogo.drop(columns=\"BatteryLevelFinal\")\n",
    "    dfJogo = dfJogo.drop(columns=\"BatteryLevelInitial\")\n",
    "    dfJogo = dfJogo.drop(columns=\"TimestampInitial\")\n",
    "    dfJogo = dfJogo.drop(columns=\"TimestampFinal\")\n",
    "\n",
    "    dfJogo['Battery_Used'] = batteryused\n",
    "    dfJogo['ElapsedTimestamp'] = elapsedtime\n",
    "    dfJogo = dfJogo.set_index(\"Battery_Used\")\n",
    "    dfJogo = dfJogo.drop(0, axis=0)\n",
    "\n",
    "    return(dfJogo)\n",
    "\n",
    "\n",
    "def exportCSV(gamesList):\n",
    "    \"\"\"Exportando cada uso de cada jogo em um csv com nome do jogo\"\"\"\n",
    "    for i in gamesList:\n",
    "        nameG = i\n",
    "        dfG = porUso_Versao(agrupando(nameG))\n",
    "        arqName = 'data/' + nameG + '.csv'\n",
    "        export_csv = dfG.to_csv (arqName, header=True)\n",
    "\n",
    "selected_games = GamesMostUsed(games)\n",
    "exportCSV(selected_games)"
   ]
  },
  {
   "cell_type": "code",
   "execution_count": null,
   "metadata": {},
   "outputs": [],
   "source": [
    "def normalizando_minuto_version():\n",
    "    \"\"\"Normalizando os dados por uso em qnto % de bateria é utilizado por minuto\"\"\"\n",
    "    for i in range(len(games)):\n",
    "        csv = 'data/' + games[i] + '.csv'\n",
    "        df = pd.read_csv(csv)\n",
    "        batteryPerMinute = []\n",
    "        version = []\n",
    "        for index, row in df.iterrows():\n",
    "            minuto = np.divide(row['ElapsedTimestamp'] , 60 )\n",
    "            batmin =  np.divide(row['Battery_Used'], minuto)\n",
    "            if batmin < 0.05:# isn't outlier\n",
    "                batteryPerMinute.append(batmin)\n",
    "                version.append(row['Version'])\n",
    "        df = df.drop(columns='ElapsedTimestamp')\n",
    "        df = df.drop(columns='Battery_Used')\n",
    "        df = df.drop(columns='Version')\n",
    "        df['Battery_Minute'] = batteryPerMinute\n",
    "        df['Version'] = version\n",
    "        export_csv = df.to_csv (csv, header=True)\n",
    "    return()\n",
    "normalizando_minuto_version()"
   ]
  },
  {
   "cell_type": "code",
   "execution_count": null,
   "metadata": {},
   "outputs": [],
   "source": []
  }
 ],
 "metadata": {
  "kernelspec": {
   "display_name": "Python 3",
   "language": "python",
   "name": "python3"
  },
  "language_info": {
   "codemirror_mode": {
    "name": "ipython",
    "version": 2
   },
   "file_extension": ".py",
   "mimetype": "text/x-python",
   "name": "python",
   "nbconvert_exporter": "python",
   "pygments_lexer": "ipython2",
   "version": "2.7.15rc1"
  }
 },
 "nbformat": 4,
 "nbformat_minor": 2
}
