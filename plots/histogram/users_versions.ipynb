{
 "cells": [
  {
   "cell_type": "code",
   "execution_count": 10,
   "metadata": {},
   "outputs": [
    {
     "name": "stdout",
     "output_type": "stream",
     "text": [
      "Cloning into 'androidGames'...\n",
      "remote: Enumerating objects: 297, done.\u001b[K\n",
      "remote: Total 297 (delta 0), reused 0 (delta 0), pack-reused 297\u001b[K\n",
      "Receiving objects: 100% (297/297), 1.88 MiB | 3.45 MiB/s, done.\n",
      "Resolving deltas: 100% (135/135), done.\n"
     ]
    }
   ],
   "source": [
    "! git clone https://github.com/naftalima/androidGames.git"
   ]
  },
  {
   "cell_type": "code",
   "execution_count": 11,
   "metadata": {},
   "outputs": [
    {
     "name": "stdout",
     "output_type": "stream",
     "text": [
      "/home/jovyan/binder/androidGames/androidGames/androidGames\n"
     ]
    }
   ],
   "source": [
    "cd androidGames"
   ]
  },
  {
   "cell_type": "code",
   "execution_count": 12,
   "metadata": {},
   "outputs": [],
   "source": [
    "import pandas as pd\n",
    "import numpy as np\n",
    "import math\n",
    "\n",
    "#df: data frame\n",
    "df = pd.read_csv('data/_SELECT_name_battery_level_version_name_device_id_timestamp_FROM_201909111900.csv')\n",
    "# name, battery_level, version_name, device_id, timestamp\n",
    "\n",
    "# str into  <class 'pandas._libs.tslib.Timestamp>\n",
    "df['timestamp'] =  pd.to_datetime(df['timestamp'])\n",
    "\n",
    "def games_names():\n",
    "    f = open(\"data/jogos.txt\", \"r\")\n",
    "    jogos=[]\n",
    "    for line in f:\n",
    "        linha = line.split(\": \")\n",
    "        jogos.append([linha[0],linha[1]])\n",
    "    f.close()\n",
    "    for  i in range(len(jogos)):\n",
    "        jogos[i][1] = jogos[i][1].replace('\\n','')\n",
    "    return(jogos)\n",
    "\n",
    "def url(jogosnomes):\n",
    "    urls= []\n",
    "    for i in jogosnomes:\n",
    "        urls.append(i[1])\n",
    "    return(urls)\n",
    "\n",
    "\n",
    "def agrupando(nome):\n",
    "    # version_name={ #NESTED DICT\n",
    "    #     'Version_Name': {'Device_Id': [ [timestamp, battery level] ] }\n",
    "    #                                        #NESTED LIST\n",
    "    version_name={0.0: {0: []}}\n",
    "    for index, row in df.iterrows():\n",
    "        if row[\"name\"] == nome:  #para todos os dados do jogo selecionado\n",
    "            #agrupando pela versão\n",
    "            if not row[\"version_name\"] in version_name:\n",
    "                version_name[row[\"version_name\"]] = {} # cria\n",
    "            #agrupando pelo dispositivo\n",
    "            if not row['device_id'] in version_name[row[\"version_name\"]]:\n",
    "                version_name[row[\"version_name\"]][row['device_id']] = [] #cria\n",
    "            version_name[row[\"version_name\"]][row['device_id']].append([row['timestamp'],row['battery_level']]) #insere\n",
    "    del version_name[0.0]\n",
    "    return(version_name)\n",
    "\n",
    "def Count_Users_Versions():\n",
    "    users_versions = {}\n",
    "    for i in games:\n",
    "        nameG = i\n",
    "        dictG = agrupando(nameG)\n",
    "        versoes = len(dictG)\n",
    "        users = 0\n",
    "        for key in dictG: #key == versionname\n",
    "            users += len(dictG[key])\n",
    "        users_versions[nameG] = [versoes,users]\n",
    "    df_uv = pd.DataFrame.from_dict(users_versions,orient='index')\n",
    "    df_uv.columns = ['versoes','users']\n",
    "    return(df_uv)\n"
   ]
  },
  {
   "cell_type": "code",
   "execution_count": 13,
   "metadata": {},
   "outputs": [],
   "source": [
    "games =  url(games_names())\n",
    "qtd = Count_Users_Versions()"
   ]
  },
  {
   "cell_type": "code",
   "execution_count": 14,
   "metadata": {},
   "outputs": [
    {
     "name": "stdout",
     "output_type": "stream",
     "text": [
      "                             versoes  users\n",
      "com.dts.freefireth                24    320\n",
      "com.supercell.clashroyale         20     73\n",
      "com.nianticlabs.pokemongo         18     22\n",
      "com.igg.android.lordsmobile        7      8\n",
      "com.supercell.brawlstars          11     31\n",
      "com.supercell.clashofclans        36    144\n",
      "com.king.candycrushsaga           31     54\n",
      "com.mobile.legends                45    318\n",
      "com.tencent.ig                     8     37\n",
      "com.playrix.gardenscapes           5      6\n",
      "com.miniclip.eightballpool        15     45\n",
      "com.playrix.township               6     12\n",
      "jp.konami.duellinks                6      6\n",
      "com.king.candycrushsodasaga       12     17\n",
      "com.rovio.baba                     9     12\n",
      "com.hcg.cok.gp                     0      0\n",
      "com.king.farmheroessaga           10     11\n",
      "com.youmusic.magictiles           15     23\n",
      "com.kiloo.subwaysurf              33    141\n",
      "com.imangi.templerun2             23     43\n"
     ]
    }
   ],
   "source": [
    "print(qtd)"
   ]
  },
  {
   "cell_type": "code",
   "execution_count": 15,
   "metadata": {},
   "outputs": [],
   "source": [
    "def Maior_Menor(dfCountUV):\n",
    "    print('maior qtd:')\n",
    "    print(dfCountUV.idxmax())  \n",
    "    print(dfCountUV.max())\n",
    "    print('menor qtd:')  \n",
    "    print(dfCountUV.idxmin())  \n",
    "    print(dfCountUV.min())\n",
    "    return()\n"
   ]
  },
  {
   "cell_type": "code",
   "execution_count": 16,
   "metadata": {},
   "outputs": [
    {
     "name": "stdout",
     "output_type": "stream",
     "text": [
      "maior qtd:\n",
      "versoes    com.mobile.legends\n",
      "users      com.dts.freefireth\n",
      "dtype: object\n",
      "versoes     45\n",
      "users      320\n",
      "dtype: int64\n",
      "menor qtd:\n",
      "versoes    com.hcg.cok.gp\n",
      "users      com.hcg.cok.gp\n",
      "dtype: object\n",
      "versoes    0\n",
      "users      0\n",
      "dtype: int64\n"
     ]
    },
    {
     "data": {
      "text/plain": [
       "()"
      ]
     },
     "execution_count": 16,
     "metadata": {},
     "output_type": "execute_result"
    }
   ],
   "source": [
    "Maior_Menor(qtd)"
   ]
  },
  {
   "cell_type": "code",
   "execution_count": null,
   "metadata": {},
   "outputs": [],
   "source": []
  }
 ],
 "metadata": {
  "kernelspec": {
   "display_name": "Python 3",
   "language": "python",
   "name": "python3"
  },
  "language_info": {
   "codemirror_mode": {
    "name": "ipython",
    "version": 3
   },
   "file_extension": ".py",
   "mimetype": "text/x-python",
   "name": "python",
   "nbconvert_exporter": "python",
   "pygments_lexer": "ipython3",
   "version": "3.6.7"
  }
 },
 "nbformat": 4,
 "nbformat_minor": 2
}
